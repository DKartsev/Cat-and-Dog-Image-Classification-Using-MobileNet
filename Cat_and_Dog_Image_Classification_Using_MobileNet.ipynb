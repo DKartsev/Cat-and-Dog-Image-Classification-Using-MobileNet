{
  "cells": [
    {
      "cell_type": "markdown",
      "metadata": {
        "id": "tn-euY2W4v4v"
      },
      "source": [
        "**Проект посвящён созданию и обучению сверточной нейросети для классификации изображений кошек и собак. Используется предобученная модель MobileNet с тонкой настройкой на собственном датасете изображений. Данные предварительно разделены на тренировочный, валидационный и тестовый наборы, применяется аугментация изображений для повышения качества обучения.**"
      ]
    },
    {
      "cell_type": "markdown",
      "metadata": {
        "id": "dq-jKFVoe2Kd"
      },
      "source": [
        "## 1. Установка Kaggle и загрузка API-ключа\n"
      ]
    },
    {
      "cell_type": "code",
      "execution_count": 4,
      "metadata": {
        "id": "sI7mYhy_fbkf"
      },
      "outputs": [],
      "source": [
        "!pip install -q kaggle"
      ]
    },
    {
      "cell_type": "code",
      "execution_count": 5,
      "metadata": {
        "colab": {
          "base_uri": "https://localhost:8080/",
          "height": 74
        },
        "id": "Wr6zWZAVe8mI",
        "outputId": "ffea5ed0-2cbe-47f6-ac60-177a6868e5d5"
      },
      "outputs": [
        {
          "data": {
            "text/html": [
              "\n",
              "     <input type=\"file\" id=\"files-fa99123f-b34f-4331-921d-3efb650c5a28\" name=\"files[]\" multiple disabled\n",
              "        style=\"border:none\" />\n",
              "     <output id=\"result-fa99123f-b34f-4331-921d-3efb650c5a28\">\n",
              "      Upload widget is only available when the cell has been executed in the\n",
              "      current browser session. Please rerun this cell to enable.\n",
              "      </output>\n",
              "      <script>// Copyright 2017 Google LLC\n",
              "//\n",
              "// Licensed under the Apache License, Version 2.0 (the \"License\");\n",
              "// you may not use this file except in compliance with the License.\n",
              "// You may obtain a copy of the License at\n",
              "//\n",
              "//      http://www.apache.org/licenses/LICENSE-2.0\n",
              "//\n",
              "// Unless required by applicable law or agreed to in writing, software\n",
              "// distributed under the License is distributed on an \"AS IS\" BASIS,\n",
              "// WITHOUT WARRANTIES OR CONDITIONS OF ANY KIND, either express or implied.\n",
              "// See the License for the specific language governing permissions and\n",
              "// limitations under the License.\n",
              "\n",
              "/**\n",
              " * @fileoverview Helpers for google.colab Python module.\n",
              " */\n",
              "(function(scope) {\n",
              "function span(text, styleAttributes = {}) {\n",
              "  const element = document.createElement('span');\n",
              "  element.textContent = text;\n",
              "  for (const key of Object.keys(styleAttributes)) {\n",
              "    element.style[key] = styleAttributes[key];\n",
              "  }\n",
              "  return element;\n",
              "}\n",
              "\n",
              "// Max number of bytes which will be uploaded at a time.\n",
              "const MAX_PAYLOAD_SIZE = 100 * 1024;\n",
              "\n",
              "function _uploadFiles(inputId, outputId) {\n",
              "  const steps = uploadFilesStep(inputId, outputId);\n",
              "  const outputElement = document.getElementById(outputId);\n",
              "  // Cache steps on the outputElement to make it available for the next call\n",
              "  // to uploadFilesContinue from Python.\n",
              "  outputElement.steps = steps;\n",
              "\n",
              "  return _uploadFilesContinue(outputId);\n",
              "}\n",
              "\n",
              "// This is roughly an async generator (not supported in the browser yet),\n",
              "// where there are multiple asynchronous steps and the Python side is going\n",
              "// to poll for completion of each step.\n",
              "// This uses a Promise to block the python side on completion of each step,\n",
              "// then passes the result of the previous step as the input to the next step.\n",
              "function _uploadFilesContinue(outputId) {\n",
              "  const outputElement = document.getElementById(outputId);\n",
              "  const steps = outputElement.steps;\n",
              "\n",
              "  const next = steps.next(outputElement.lastPromiseValue);\n",
              "  return Promise.resolve(next.value.promise).then((value) => {\n",
              "    // Cache the last promise value to make it available to the next\n",
              "    // step of the generator.\n",
              "    outputElement.lastPromiseValue = value;\n",
              "    return next.value.response;\n",
              "  });\n",
              "}\n",
              "\n",
              "/**\n",
              " * Generator function which is called between each async step of the upload\n",
              " * process.\n",
              " * @param {string} inputId Element ID of the input file picker element.\n",
              " * @param {string} outputId Element ID of the output display.\n",
              " * @return {!Iterable<!Object>} Iterable of next steps.\n",
              " */\n",
              "function* uploadFilesStep(inputId, outputId) {\n",
              "  const inputElement = document.getElementById(inputId);\n",
              "  inputElement.disabled = false;\n",
              "\n",
              "  const outputElement = document.getElementById(outputId);\n",
              "  outputElement.innerHTML = '';\n",
              "\n",
              "  const pickedPromise = new Promise((resolve) => {\n",
              "    inputElement.addEventListener('change', (e) => {\n",
              "      resolve(e.target.files);\n",
              "    });\n",
              "  });\n",
              "\n",
              "  const cancel = document.createElement('button');\n",
              "  inputElement.parentElement.appendChild(cancel);\n",
              "  cancel.textContent = 'Cancel upload';\n",
              "  const cancelPromise = new Promise((resolve) => {\n",
              "    cancel.onclick = () => {\n",
              "      resolve(null);\n",
              "    };\n",
              "  });\n",
              "\n",
              "  // Wait for the user to pick the files.\n",
              "  const files = yield {\n",
              "    promise: Promise.race([pickedPromise, cancelPromise]),\n",
              "    response: {\n",
              "      action: 'starting',\n",
              "    }\n",
              "  };\n",
              "\n",
              "  cancel.remove();\n",
              "\n",
              "  // Disable the input element since further picks are not allowed.\n",
              "  inputElement.disabled = true;\n",
              "\n",
              "  if (!files) {\n",
              "    return {\n",
              "      response: {\n",
              "        action: 'complete',\n",
              "      }\n",
              "    };\n",
              "  }\n",
              "\n",
              "  for (const file of files) {\n",
              "    const li = document.createElement('li');\n",
              "    li.append(span(file.name, {fontWeight: 'bold'}));\n",
              "    li.append(span(\n",
              "        `(${file.type || 'n/a'}) - ${file.size} bytes, ` +\n",
              "        `last modified: ${\n",
              "            file.lastModifiedDate ? file.lastModifiedDate.toLocaleDateString() :\n",
              "                                    'n/a'} - `));\n",
              "    const percent = span('0% done');\n",
              "    li.appendChild(percent);\n",
              "\n",
              "    outputElement.appendChild(li);\n",
              "\n",
              "    const fileDataPromise = new Promise((resolve) => {\n",
              "      const reader = new FileReader();\n",
              "      reader.onload = (e) => {\n",
              "        resolve(e.target.result);\n",
              "      };\n",
              "      reader.readAsArrayBuffer(file);\n",
              "    });\n",
              "    // Wait for the data to be ready.\n",
              "    let fileData = yield {\n",
              "      promise: fileDataPromise,\n",
              "      response: {\n",
              "        action: 'continue',\n",
              "      }\n",
              "    };\n",
              "\n",
              "    // Use a chunked sending to avoid message size limits. See b/62115660.\n",
              "    let position = 0;\n",
              "    do {\n",
              "      const length = Math.min(fileData.byteLength - position, MAX_PAYLOAD_SIZE);\n",
              "      const chunk = new Uint8Array(fileData, position, length);\n",
              "      position += length;\n",
              "\n",
              "      const base64 = btoa(String.fromCharCode.apply(null, chunk));\n",
              "      yield {\n",
              "        response: {\n",
              "          action: 'append',\n",
              "          file: file.name,\n",
              "          data: base64,\n",
              "        },\n",
              "      };\n",
              "\n",
              "      let percentDone = fileData.byteLength === 0 ?\n",
              "          100 :\n",
              "          Math.round((position / fileData.byteLength) * 100);\n",
              "      percent.textContent = `${percentDone}% done`;\n",
              "\n",
              "    } while (position < fileData.byteLength);\n",
              "  }\n",
              "\n",
              "  // All done.\n",
              "  yield {\n",
              "    response: {\n",
              "      action: 'complete',\n",
              "    }\n",
              "  };\n",
              "}\n",
              "\n",
              "scope.google = scope.google || {};\n",
              "scope.google.colab = scope.google.colab || {};\n",
              "scope.google.colab._files = {\n",
              "  _uploadFiles,\n",
              "  _uploadFilesContinue,\n",
              "};\n",
              "})(self);\n",
              "</script> "
            ],
            "text/plain": [
              "<IPython.core.display.HTML object>"
            ]
          },
          "metadata": {},
          "output_type": "display_data"
        },
        {
          "name": "stdout",
          "output_type": "stream",
          "text": [
            "Saving kaggle.json to kaggle.json\n"
          ]
        }
      ],
      "source": [
        "from google.colab import files\n",
        "files.upload()\n",
        "\n",
        "!mkdir -p ~/.kaggle\n",
        "!cp kaggle.json ~/.kaggle/\n",
        "!chmod 600 ~/.kaggle/kaggle.json"
      ]
    },
    {
      "cell_type": "markdown",
      "metadata": {
        "id": "5a2d282a"
      },
      "source": [
        "## Скачивание и распаковка датасета\n"
      ]
    },
    {
      "cell_type": "code",
      "execution_count": null,
      "metadata": {
        "colab": {
          "base_uri": "https://localhost:8080/"
        },
        "collapsed": true,
        "id": "80b6ba2c",
        "outputId": "7b8ba44a-1627-4019-e659-dabbca073e8c"
      },
      "outputs": [],
      "source": [
        "!kaggle datasets download -d tongpython/cat-and-dog -p /content/dogs-vs-cats\n",
        "!unzip /content/dogs-vs-cats/cat-and-dog.zip -d /content/dogs-vs-cats"
      ]
    },
    {
      "cell_type": "markdown",
      "metadata": {
        "id": "cb04defa"
      },
      "source": [
        "## Создание структуры папок\n"
      ]
    },
    {
      "cell_type": "markdown",
      "metadata": {
        "id": "B9xzywiVq0hr"
      },
      "source": [
        "Создаем базовую директорию для датасета\n",
        "\n",
        "Определяем подкатегории: train, validation, test\n",
        "\n",
        "Для каждой подкатегории создаем папки для классов 'cats' и 'dogs'\n",
        "\n",
        "Выводим путь каждой созданной директории\n"
      ]
    },
    {
      "cell_type": "code",
      "execution_count": 7,
      "metadata": {
        "colab": {
          "base_uri": "https://localhost:8080/"
        },
        "id": "b6be8a8a",
        "outputId": "d07f3d51-906d-46b9-fde7-ac1c7678bf3d"
      },
      "outputs": [
        {
          "name": "stdout",
          "output_type": "stream",
          "text": [
            "Created directory: /content/dogs-vs-cats/dataset/train/cats\n",
            "Created directory: /content/dogs-vs-cats/dataset/train/dogs\n",
            "Created directory: /content/dogs-vs-cats/dataset/validation/cats\n",
            "Created directory: /content/dogs-vs-cats/dataset/validation/dogs\n",
            "Created directory: /content/dogs-vs-cats/dataset/test/cats\n",
            "Created directory: /content/dogs-vs-cats/dataset/test/dogs\n"
          ]
        }
      ],
      "source": [
        "import os\n",
        "\n",
        "base_dir = '/content/dogs-vs-cats/dataset'\n",
        "os.makedirs(base_dir, exist_ok=True)\n",
        "\n",
        "subsets = ['train', 'validation', 'test']\n",
        "classes = ['cats', 'dogs']\n",
        "\n",
        "for subset in subsets:\n",
        "    for class_name in classes:\n",
        "        directory = os.path.join(base_dir, subset, class_name)\n",
        "        os.makedirs(directory, exist_ok=True)\n",
        "        print(f\"Created directory: {directory}\")"
      ]
    },
    {
      "cell_type": "markdown",
      "metadata": {
        "id": "bd06deb2"
      },
      "source": [
        "## Разделение изображений по классам и создание выборок"
      ]
    },
    {
      "cell_type": "code",
      "execution_count": 8,
      "metadata": {
        "colab": {
          "base_uri": "https://localhost:8080/"
        },
        "id": "iAU7W2JigtA0",
        "outputId": "aafc0280-40ed-4bcc-928f-1ebd17c20c2b"
      },
      "outputs": [
        {
          "name": "stdout",
          "output_type": "stream",
          "text": [
            "cat-and-dog.zip  dataset  test_set  training_set\n",
            "ls: cannot access '/content/dogs-vs-cats/PetImages': No such file or directory\n"
          ]
        }
      ],
      "source": [
        "!ls /content/dogs-vs-cats\n",
        "!ls /content/dogs-vs-cats/PetImages"
      ]
    },
    {
      "cell_type": "markdown",
      "metadata": {
        "id": "M3KRgZZireqs"
      },
      "source": [
        "Собираем все изображения кошек и собак из исходных папок, фильтруем только файлы .jpg с ненулевым размером, случайным образом перемешиваем их, делим на train (80%), validation (10%) и test (10%) и перемещаем в соответствующие директории dataset/{train, validation, test}/{cats, dogs}, при этом обрабатываем ошибки при перемещении файлов."
      ]
    },
    {
      "cell_type": "code",
      "execution_count": 9,
      "metadata": {
        "colab": {
          "base_uri": "https://localhost:8080/"
        },
        "id": "c86f7e20",
        "outputId": "a2b1a0ac-574e-4c36-a737-3e920a9d6187"
      },
      "outputs": [
        {
          "name": "stdout",
          "output_type": "stream",
          "text": [
            "Moving training files...\n",
            "Moving validation files...\n",
            "Moving test files...\n",
            "File distribution complete.\n"
          ]
        }
      ],
      "source": [
        "import os\n",
        "import shutil\n",
        "import random\n",
        "\n",
        "source_training_dir = '/content/dogs-vs-cats/training_set/training_set'\n",
        "source_test_dir = '/content/dogs-vs-cats/test_set/test_set'\n",
        "base_dir = '/content/dogs-vs-cats/dataset'\n",
        "\n",
        "all_files = []\n",
        "for category in ['cats', 'dogs']:\n",
        "    category_dir = os.path.join(source_training_dir, category)\n",
        "    if os.path.exists(category_dir):\n",
        "        for filename in os.listdir(category_dir):\n",
        "            if filename.endswith('.jpg'):\n",
        "                filepath = os.path.join(category_dir, filename)\n",
        "                if os.path.getsize(filepath) > 0:\n",
        "                    all_files.append((filepath, category))\n",
        "for category in ['cats', 'dogs']:\n",
        "    category_dir = os.path.join(source_test_dir, category)\n",
        "    if os.path.exists(category_dir):\n",
        "        for filename in os.listdir(category_dir):\n",
        "            if filename.endswith('.jpg'):\n",
        "                filepath = os.path.join(category_dir, filename)\n",
        "                if os.path.getsize(filepath) > 0:\n",
        "                    all_files.append((filepath, category))\n",
        "\n",
        "\n",
        "random.shuffle(all_files)\n",
        "\n",
        "train_ratio = 0.8\n",
        "validation_ratio = 0.1\n",
        "test_ratio = 0.1\n",
        "\n",
        "total_files = len(all_files)\n",
        "train_count = int(total_files * train_ratio)\n",
        "validation_count = int(total_files * validation_ratio)\n",
        "test_count = total_files - train_count - validation_count\n",
        "\n",
        "train_files = all_files[:train_count]\n",
        "validation_files = all_files[train_count:train_count + validation_count]\n",
        "test_files = all_files[train_count + validation_count:]\n",
        "\n",
        "def move_files(file_list, subset_dir):\n",
        "    for filepath, category in file_list:\n",
        "        target_dir = os.path.join(base_dir, subset_dir, category)\n",
        "        os.makedirs(target_dir, exist_ok=True)\n",
        "        try:\n",
        "            shutil.move(filepath, target_dir)\n",
        "        except FileNotFoundError:\n",
        "            print(f\"Warning: File not found, skipping: {filepath}\")\n",
        "        except Exception as e:\n",
        "            print(f\"Error moving file {filepath}: {e}\")\n",
        "\n",
        "print(\"Moving training files...\")\n",
        "move_files(train_files, 'train')\n",
        "\n",
        "print(\"Moving validation files...\")\n",
        "move_files(validation_files, 'validation')\n",
        "\n",
        "print(\"Moving test files...\")\n",
        "move_files(test_files, 'test')\n",
        "\n",
        "print(\"File distribution complete.\")"
      ]
    },
    {
      "cell_type": "markdown",
      "metadata": {
        "id": "b9ae1640"
      },
      "source": [
        "## Создание генераторов изображений"
      ]
    },
    {
      "cell_type": "markdown",
      "metadata": {
        "id": "NgWLBlWXr5jl"
      },
      "source": [
        "Создаём генераторы изображений для обучения, валидации и теста с использованием ImageDataGenerator, масштабируем пиксели к диапазону 0-1, добавляем аугментацию для тренировочного набора (повороты, сдвиги, масштабирование, отражение), настраиваем размер изображений 150x150 и batch_size 32, и создаём потоки данных из соответствующих директорий."
      ]
    },
    {
      "cell_type": "code",
      "execution_count": 10,
      "metadata": {
        "colab": {
          "base_uri": "https://localhost:8080/"
        },
        "id": "2769d1cc",
        "outputId": "74095854-5ce3-491c-d2b1-6d68af0b4a37"
      },
      "outputs": [
        {
          "name": "stdout",
          "output_type": "stream",
          "text": [
            "Found 8022 images belonging to 2 classes.\n",
            "Found 1002 images belonging to 2 classes.\n",
            "Found 1004 images belonging to 2 classes.\n",
            "Image generators created successfully.\n"
          ]
        }
      ],
      "source": [
        "from tensorflow.keras.preprocessing.image import ImageDataGenerator\n",
        "\n",
        "train_dir = '/content/dogs-vs-cats/dataset/train'\n",
        "validation_dir = '/content/dogs-vs-cats/dataset/validation'\n",
        "test_dir = '/content/dogs-vs-cats/dataset/test'\n",
        "\n",
        "image_size = (150, 150)\n",
        "batch_size = 32\n",
        "\n",
        "train_datagen = ImageDataGenerator(\n",
        "    rescale=1./255,\n",
        "    rotation_range=40,\n",
        "    width_shift_range=0.2,\n",
        "    height_shift_range=0.2,\n",
        "    shear_range=0.2,\n",
        "    zoom_range=0.2,\n",
        "    horizontal_flip=True,\n",
        "    fill_mode='nearest'\n",
        ")\n",
        "\n",
        "validation_datagen = ImageDataGenerator(rescale=1./255)\n",
        "test_datagen = ImageDataGenerator(rescale=1./255)\n",
        "\n",
        "train_generator = train_datagen.flow_from_directory(\n",
        "    train_dir,\n",
        "    target_size=image_size,\n",
        "    batch_size=batch_size,\n",
        "    class_mode='categorical'\n",
        ")\n",
        "\n",
        "validation_generator = validation_datagen.flow_from_directory(\n",
        "    validation_dir,\n",
        "    target_size=image_size,\n",
        "    batch_size=batch_size,\n",
        "    class_mode='categorical'\n",
        ")\n",
        "\n",
        "test_generator = test_datagen.flow_from_directory(\n",
        "    test_dir,\n",
        "    target_size=image_size,\n",
        "    batch_size=batch_size,\n",
        "    class_mode='categorical',\n",
        "    shuffle=False\n",
        ")\n",
        "\n",
        "print(\"Image generators created successfully.\")"
      ]
    },
    {
      "cell_type": "markdown",
      "metadata": {
        "id": "cb469eb8"
      },
      "source": [
        "## Обучение модели\n"
      ]
    },
    {
      "cell_type": "markdown",
      "metadata": {
        "id": "YWJ8Tdx4sJDL"
      },
      "source": [
        "Создаём модель на основе предобученной MobileNet без верхнего слоя, добавляем входной слой с размером 150x150x3, затем сверточную базу MobileNet, слой GlobalAveragePooling2D для уменьшения размерности признаков, полносвязный слой с 256 нейронами и ReLU, и выходной слой с 2 нейронами и softmax для классификации кошек и собак."
      ]
    },
    {
      "cell_type": "code",
      "execution_count": 11,
      "metadata": {
        "colab": {
          "base_uri": "https://localhost:8080/",
          "height": 332
        },
        "id": "b5cd0e19",
        "outputId": "689283e6-02ab-4348-d523-dbb25da7fd78"
      },
      "outputs": [
        {
          "name": "stderr",
          "output_type": "stream",
          "text": [
            "/tmp/ipython-input-4226643092.py:11: UserWarning: `input_shape` is undefined or non-square, or `rows` is not in [128, 160, 192, 224]. Weights for input shape (224, 224) will be loaded as the default.\n",
            "  conv_base = MobileNet(input_shape=image_size + (3,),\n"
          ]
        },
        {
          "data": {
            "text/html": [
              "<pre style=\"white-space:pre;overflow-x:auto;line-height:normal;font-family:Menlo,'DejaVu Sans Mono',consolas,'Courier New',monospace\"><span style=\"font-weight: bold\">Model: \"sequential_1\"</span>\n",
              "</pre>\n"
            ],
            "text/plain": [
              "\u001b[1mModel: \"sequential_1\"\u001b[0m\n"
            ]
          },
          "metadata": {},
          "output_type": "display_data"
        },
        {
          "data": {
            "text/html": [
              "<pre style=\"white-space:pre;overflow-x:auto;line-height:normal;font-family:Menlo,'DejaVu Sans Mono',consolas,'Courier New',monospace\">┏━━━━━━━━━━━━━━━━━━━━━━━━━━━━━━━━━┳━━━━━━━━━━━━━━━━━━━━━━━━┳━━━━━━━━━━━━━━━┓\n",
              "┃<span style=\"font-weight: bold\"> Layer (type)                    </span>┃<span style=\"font-weight: bold\"> Output Shape           </span>┃<span style=\"font-weight: bold\">       Param # </span>┃\n",
              "┡━━━━━━━━━━━━━━━━━━━━━━━━━━━━━━━━━╇━━━━━━━━━━━━━━━━━━━━━━━━╇━━━━━━━━━━━━━━━┩\n",
              "│ mobilenet_1.00_224 (<span style=\"color: #0087ff; text-decoration-color: #0087ff\">Functional</span>) │ (<span style=\"color: #00d7ff; text-decoration-color: #00d7ff\">None</span>, <span style=\"color: #00af00; text-decoration-color: #00af00\">4</span>, <span style=\"color: #00af00; text-decoration-color: #00af00\">4</span>, <span style=\"color: #00af00; text-decoration-color: #00af00\">1024</span>)     │     <span style=\"color: #00af00; text-decoration-color: #00af00\">3,228,864</span> │\n",
              "├─────────────────────────────────┼────────────────────────┼───────────────┤\n",
              "│ global_average_pooling2d_1      │ (<span style=\"color: #00d7ff; text-decoration-color: #00d7ff\">None</span>, <span style=\"color: #00af00; text-decoration-color: #00af00\">1024</span>)           │             <span style=\"color: #00af00; text-decoration-color: #00af00\">0</span> │\n",
              "│ (<span style=\"color: #0087ff; text-decoration-color: #0087ff\">GlobalAveragePooling2D</span>)        │                        │               │\n",
              "├─────────────────────────────────┼────────────────────────┼───────────────┤\n",
              "│ dense_2 (<span style=\"color: #0087ff; text-decoration-color: #0087ff\">Dense</span>)                 │ (<span style=\"color: #00d7ff; text-decoration-color: #00d7ff\">None</span>, <span style=\"color: #00af00; text-decoration-color: #00af00\">256</span>)            │       <span style=\"color: #00af00; text-decoration-color: #00af00\">262,400</span> │\n",
              "├─────────────────────────────────┼────────────────────────┼───────────────┤\n",
              "│ dense_3 (<span style=\"color: #0087ff; text-decoration-color: #0087ff\">Dense</span>)                 │ (<span style=\"color: #00d7ff; text-decoration-color: #00d7ff\">None</span>, <span style=\"color: #00af00; text-decoration-color: #00af00\">2</span>)              │           <span style=\"color: #00af00; text-decoration-color: #00af00\">514</span> │\n",
              "└─────────────────────────────────┴────────────────────────┴───────────────┘\n",
              "</pre>\n"
            ],
            "text/plain": [
              "┏━━━━━━━━━━━━━━━━━━━━━━━━━━━━━━━━━┳━━━━━━━━━━━━━━━━━━━━━━━━┳━━━━━━━━━━━━━━━┓\n",
              "┃\u001b[1m \u001b[0m\u001b[1mLayer (type)                   \u001b[0m\u001b[1m \u001b[0m┃\u001b[1m \u001b[0m\u001b[1mOutput Shape          \u001b[0m\u001b[1m \u001b[0m┃\u001b[1m \u001b[0m\u001b[1m      Param #\u001b[0m\u001b[1m \u001b[0m┃\n",
              "┡━━━━━━━━━━━━━━━━━━━━━━━━━━━━━━━━━╇━━━━━━━━━━━━━━━━━━━━━━━━╇━━━━━━━━━━━━━━━┩\n",
              "│ mobilenet_1.00_224 (\u001b[38;5;33mFunctional\u001b[0m) │ (\u001b[38;5;45mNone\u001b[0m, \u001b[38;5;34m4\u001b[0m, \u001b[38;5;34m4\u001b[0m, \u001b[38;5;34m1024\u001b[0m)     │     \u001b[38;5;34m3,228,864\u001b[0m │\n",
              "├─────────────────────────────────┼────────────────────────┼───────────────┤\n",
              "│ global_average_pooling2d_1      │ (\u001b[38;5;45mNone\u001b[0m, \u001b[38;5;34m1024\u001b[0m)           │             \u001b[38;5;34m0\u001b[0m │\n",
              "│ (\u001b[38;5;33mGlobalAveragePooling2D\u001b[0m)        │                        │               │\n",
              "├─────────────────────────────────┼────────────────────────┼───────────────┤\n",
              "│ dense_2 (\u001b[38;5;33mDense\u001b[0m)                 │ (\u001b[38;5;45mNone\u001b[0m, \u001b[38;5;34m256\u001b[0m)            │       \u001b[38;5;34m262,400\u001b[0m │\n",
              "├─────────────────────────────────┼────────────────────────┼───────────────┤\n",
              "│ dense_3 (\u001b[38;5;33mDense\u001b[0m)                 │ (\u001b[38;5;45mNone\u001b[0m, \u001b[38;5;34m2\u001b[0m)              │           \u001b[38;5;34m514\u001b[0m │\n",
              "└─────────────────────────────────┴────────────────────────┴───────────────┘\n"
            ]
          },
          "metadata": {},
          "output_type": "display_data"
        },
        {
          "data": {
            "text/html": [
              "<pre style=\"white-space:pre;overflow-x:auto;line-height:normal;font-family:Menlo,'DejaVu Sans Mono',consolas,'Courier New',monospace\"><span style=\"font-weight: bold\"> Total params: </span><span style=\"color: #00af00; text-decoration-color: #00af00\">3,491,778</span> (13.32 MB)\n",
              "</pre>\n"
            ],
            "text/plain": [
              "\u001b[1m Total params: \u001b[0m\u001b[38;5;34m3,491,778\u001b[0m (13.32 MB)\n"
            ]
          },
          "metadata": {},
          "output_type": "display_data"
        },
        {
          "data": {
            "text/html": [
              "<pre style=\"white-space:pre;overflow-x:auto;line-height:normal;font-family:Menlo,'DejaVu Sans Mono',consolas,'Courier New',monospace\"><span style=\"font-weight: bold\"> Trainable params: </span><span style=\"color: #00af00; text-decoration-color: #00af00\">3,469,890</span> (13.24 MB)\n",
              "</pre>\n"
            ],
            "text/plain": [
              "\u001b[1m Trainable params: \u001b[0m\u001b[38;5;34m3,469,890\u001b[0m (13.24 MB)\n"
            ]
          },
          "metadata": {},
          "output_type": "display_data"
        },
        {
          "data": {
            "text/html": [
              "<pre style=\"white-space:pre;overflow-x:auto;line-height:normal;font-family:Menlo,'DejaVu Sans Mono',consolas,'Courier New',monospace\"><span style=\"font-weight: bold\"> Non-trainable params: </span><span style=\"color: #00af00; text-decoration-color: #00af00\">21,888</span> (85.50 KB)\n",
              "</pre>\n"
            ],
            "text/plain": [
              "\u001b[1m Non-trainable params: \u001b[0m\u001b[38;5;34m21,888\u001b[0m (85.50 KB)\n"
            ]
          },
          "metadata": {},
          "output_type": "display_data"
        }
      ],
      "source": [
        "from tensorflow.keras.models import Sequential\n",
        "from tensorflow.keras.layers import GlobalAveragePooling2D, Dense, Flatten, Input\n",
        "from tensorflow.keras.applications import MobileNet\n",
        "from tensorflow.keras.optimizers import Adam\n",
        "from tensorflow.keras import models\n",
        "\n",
        "# Определение параметров изображения\n",
        "image_size = (150, 150)\n",
        "\n",
        "# Загрузка предобученной модели MobileNet\n",
        "conv_base = MobileNet(input_shape=image_size + (3,),\n",
        "                       include_top=False,\n",
        "                       weights='imagenet')\n",
        "\n",
        "model = models.Sequential([\n",
        "    Input(shape=image_size + (3,)), # Добавление входного слоя\n",
        "    conv_base, # Добавление сверточной базы как слоя\n",
        "    GlobalAveragePooling2D(),\n",
        "    Dense(256, activation='relu'), # Добавление полносвязного слоя\n",
        "    Dense(2, activation='softmax') # Выходной слой для 2 классов\n",
        "])\n",
        "model.summary()"
      ]
    },
    {
      "cell_type": "markdown",
      "metadata": {
        "id": "vkpCVaMP31Cb"
      },
      "source": [
        "Размораживаем последние 150 слоёв MobileNet для тонкой настройки, фиксируем остальные слои, компилируем модель с оптимизатором Adam (learning_rate=1e-5) и функцией потерь categorical_crossentropy, обучаем модель на тренировочном генераторе 30 эпох с валидацией и учитываем возможные неполные пакеты, после чего тонкая настройка модели завершена."
      ]
    },
    {
      "cell_type": "code",
      "execution_count": 14,
      "metadata": {
        "colab": {
          "base_uri": "https://localhost:8080/",
          "height": 1000
        },
        "id": "MRW13yWRpF6q",
        "outputId": "5941a771-354b-4ad9-a64c-13e73b833714"
      },
      "outputs": [
        {
          "data": {
            "text/html": [
              "<pre style=\"white-space:pre;overflow-x:auto;line-height:normal;font-family:Menlo,'DejaVu Sans Mono',consolas,'Courier New',monospace\"><span style=\"font-weight: bold\">Model: \"sequential_1\"</span>\n",
              "</pre>\n"
            ],
            "text/plain": [
              "\u001b[1mModel: \"sequential_1\"\u001b[0m\n"
            ]
          },
          "metadata": {},
          "output_type": "display_data"
        },
        {
          "data": {
            "text/html": [
              "<pre style=\"white-space:pre;overflow-x:auto;line-height:normal;font-family:Menlo,'DejaVu Sans Mono',consolas,'Courier New',monospace\">┏━━━━━━━━━━━━━━━━━━━━━━━━━━━━━━━━━┳━━━━━━━━━━━━━━━━━━━━━━━━┳━━━━━━━━━━━━━━━┓\n",
              "┃<span style=\"font-weight: bold\"> Layer (type)                    </span>┃<span style=\"font-weight: bold\"> Output Shape           </span>┃<span style=\"font-weight: bold\">       Param # </span>┃\n",
              "┡━━━━━━━━━━━━━━━━━━━━━━━━━━━━━━━━━╇━━━━━━━━━━━━━━━━━━━━━━━━╇━━━━━━━━━━━━━━━┩\n",
              "│ mobilenet_1.00_224 (<span style=\"color: #0087ff; text-decoration-color: #0087ff\">Functional</span>) │ (<span style=\"color: #00d7ff; text-decoration-color: #00d7ff\">None</span>, <span style=\"color: #00af00; text-decoration-color: #00af00\">4</span>, <span style=\"color: #00af00; text-decoration-color: #00af00\">4</span>, <span style=\"color: #00af00; text-decoration-color: #00af00\">1024</span>)     │     <span style=\"color: #00af00; text-decoration-color: #00af00\">3,228,864</span> │\n",
              "├─────────────────────────────────┼────────────────────────┼───────────────┤\n",
              "│ global_average_pooling2d_1      │ (<span style=\"color: #00d7ff; text-decoration-color: #00d7ff\">None</span>, <span style=\"color: #00af00; text-decoration-color: #00af00\">1024</span>)           │             <span style=\"color: #00af00; text-decoration-color: #00af00\">0</span> │\n",
              "│ (<span style=\"color: #0087ff; text-decoration-color: #0087ff\">GlobalAveragePooling2D</span>)        │                        │               │\n",
              "├─────────────────────────────────┼────────────────────────┼───────────────┤\n",
              "│ dense_2 (<span style=\"color: #0087ff; text-decoration-color: #0087ff\">Dense</span>)                 │ (<span style=\"color: #00d7ff; text-decoration-color: #00d7ff\">None</span>, <span style=\"color: #00af00; text-decoration-color: #00af00\">256</span>)            │       <span style=\"color: #00af00; text-decoration-color: #00af00\">262,400</span> │\n",
              "├─────────────────────────────────┼────────────────────────┼───────────────┤\n",
              "│ dense_3 (<span style=\"color: #0087ff; text-decoration-color: #0087ff\">Dense</span>)                 │ (<span style=\"color: #00d7ff; text-decoration-color: #00d7ff\">None</span>, <span style=\"color: #00af00; text-decoration-color: #00af00\">2</span>)              │           <span style=\"color: #00af00; text-decoration-color: #00af00\">514</span> │\n",
              "└─────────────────────────────────┴────────────────────────┴───────────────┘\n",
              "</pre>\n"
            ],
            "text/plain": [
              "┏━━━━━━━━━━━━━━━━━━━━━━━━━━━━━━━━━┳━━━━━━━━━━━━━━━━━━━━━━━━┳━━━━━━━━━━━━━━━┓\n",
              "┃\u001b[1m \u001b[0m\u001b[1mLayer (type)                   \u001b[0m\u001b[1m \u001b[0m┃\u001b[1m \u001b[0m\u001b[1mOutput Shape          \u001b[0m\u001b[1m \u001b[0m┃\u001b[1m \u001b[0m\u001b[1m      Param #\u001b[0m\u001b[1m \u001b[0m┃\n",
              "┡━━━━━━━━━━━━━━━━━━━━━━━━━━━━━━━━━╇━━━━━━━━━━━━━━━━━━━━━━━━╇━━━━━━━━━━━━━━━┩\n",
              "│ mobilenet_1.00_224 (\u001b[38;5;33mFunctional\u001b[0m) │ (\u001b[38;5;45mNone\u001b[0m, \u001b[38;5;34m4\u001b[0m, \u001b[38;5;34m4\u001b[0m, \u001b[38;5;34m1024\u001b[0m)     │     \u001b[38;5;34m3,228,864\u001b[0m │\n",
              "├─────────────────────────────────┼────────────────────────┼───────────────┤\n",
              "│ global_average_pooling2d_1      │ (\u001b[38;5;45mNone\u001b[0m, \u001b[38;5;34m1024\u001b[0m)           │             \u001b[38;5;34m0\u001b[0m │\n",
              "│ (\u001b[38;5;33mGlobalAveragePooling2D\u001b[0m)        │                        │               │\n",
              "├─────────────────────────────────┼────────────────────────┼───────────────┤\n",
              "│ dense_2 (\u001b[38;5;33mDense\u001b[0m)                 │ (\u001b[38;5;45mNone\u001b[0m, \u001b[38;5;34m256\u001b[0m)            │       \u001b[38;5;34m262,400\u001b[0m │\n",
              "├─────────────────────────────────┼────────────────────────┼───────────────┤\n",
              "│ dense_3 (\u001b[38;5;33mDense\u001b[0m)                 │ (\u001b[38;5;45mNone\u001b[0m, \u001b[38;5;34m2\u001b[0m)              │           \u001b[38;5;34m514\u001b[0m │\n",
              "└─────────────────────────────────┴────────────────────────┴───────────────┘\n"
            ]
          },
          "metadata": {},
          "output_type": "display_data"
        },
        {
          "data": {
            "text/html": [
              "<pre style=\"white-space:pre;overflow-x:auto;line-height:normal;font-family:Menlo,'DejaVu Sans Mono',consolas,'Courier New',monospace\"><span style=\"font-weight: bold\"> Total params: </span><span style=\"color: #00af00; text-decoration-color: #00af00\">3,491,778</span> (13.32 MB)\n",
              "</pre>\n"
            ],
            "text/plain": [
              "\u001b[1m Total params: \u001b[0m\u001b[38;5;34m3,491,778\u001b[0m (13.32 MB)\n"
            ]
          },
          "metadata": {},
          "output_type": "display_data"
        },
        {
          "data": {
            "text/html": [
              "<pre style=\"white-space:pre;overflow-x:auto;line-height:normal;font-family:Menlo,'DejaVu Sans Mono',consolas,'Courier New',monospace\"><span style=\"font-weight: bold\"> Trainable params: </span><span style=\"color: #00af00; text-decoration-color: #00af00\">3,469,890</span> (13.24 MB)\n",
              "</pre>\n"
            ],
            "text/plain": [
              "\u001b[1m Trainable params: \u001b[0m\u001b[38;5;34m3,469,890\u001b[0m (13.24 MB)\n"
            ]
          },
          "metadata": {},
          "output_type": "display_data"
        },
        {
          "data": {
            "text/html": [
              "<pre style=\"white-space:pre;overflow-x:auto;line-height:normal;font-family:Menlo,'DejaVu Sans Mono',consolas,'Courier New',monospace\"><span style=\"font-weight: bold\"> Non-trainable params: </span><span style=\"color: #00af00; text-decoration-color: #00af00\">21,888</span> (85.50 KB)\n",
              "</pre>\n"
            ],
            "text/plain": [
              "\u001b[1m Non-trainable params: \u001b[0m\u001b[38;5;34m21,888\u001b[0m (85.50 KB)\n"
            ]
          },
          "metadata": {},
          "output_type": "display_data"
        },
        {
          "name": "stdout",
          "output_type": "stream",
          "text": [
            "Epoch 1/30\n",
            "\u001b[1m251/251\u001b[0m \u001b[32m━━━━━━━━━━━━━━━━━━━━\u001b[0m\u001b[37m\u001b[0m \u001b[1m100s\u001b[0m 307ms/step - accuracy: 0.9438 - loss: 0.1395 - val_accuracy: 0.9641 - val_loss: 0.0828\n",
            "Epoch 2/30\n",
            "\u001b[1m251/251\u001b[0m \u001b[32m━━━━━━━━━━━━━━━━━━━━\u001b[0m\u001b[37m\u001b[0m \u001b[1m55s\u001b[0m 218ms/step - accuracy: 0.9430 - loss: 0.1329 - val_accuracy: 0.9671 - val_loss: 0.0752\n",
            "Epoch 3/30\n",
            "\u001b[1m251/251\u001b[0m \u001b[32m━━━━━━━━━━━━━━━━━━━━\u001b[0m\u001b[37m\u001b[0m \u001b[1m55s\u001b[0m 220ms/step - accuracy: 0.9540 - loss: 0.1167 - val_accuracy: 0.9691 - val_loss: 0.0741\n",
            "Epoch 4/30\n",
            "\u001b[1m251/251\u001b[0m \u001b[32m━━━━━━━━━━━━━━━━━━━━\u001b[0m\u001b[37m\u001b[0m \u001b[1m54s\u001b[0m 217ms/step - accuracy: 0.9559 - loss: 0.1126 - val_accuracy: 0.9701 - val_loss: 0.0709\n",
            "Epoch 5/30\n",
            "\u001b[1m251/251\u001b[0m \u001b[32m━━━━━━━━━━━━━━━━━━━━\u001b[0m\u001b[37m\u001b[0m \u001b[1m56s\u001b[0m 222ms/step - accuracy: 0.9577 - loss: 0.1081 - val_accuracy: 0.9701 - val_loss: 0.0665\n",
            "Epoch 6/30\n",
            "\u001b[1m251/251\u001b[0m \u001b[32m━━━━━━━━━━━━━━━━━━━━\u001b[0m\u001b[37m\u001b[0m \u001b[1m54s\u001b[0m 216ms/step - accuracy: 0.9614 - loss: 0.0971 - val_accuracy: 0.9701 - val_loss: 0.0684\n",
            "Epoch 7/30\n",
            "\u001b[1m251/251\u001b[0m \u001b[32m━━━━━━━━━━━━━━━━━━━━\u001b[0m\u001b[37m\u001b[0m \u001b[1m55s\u001b[0m 220ms/step - accuracy: 0.9640 - loss: 0.0917 - val_accuracy: 0.9711 - val_loss: 0.0681\n",
            "Epoch 8/30\n",
            "\u001b[1m251/251\u001b[0m \u001b[32m━━━━━━━━━━━━━━━━━━━━\u001b[0m\u001b[37m\u001b[0m \u001b[1m55s\u001b[0m 217ms/step - accuracy: 0.9674 - loss: 0.0853 - val_accuracy: 0.9711 - val_loss: 0.0657\n",
            "Epoch 9/30\n",
            "\u001b[1m251/251\u001b[0m \u001b[32m━━━━━━━━━━━━━━━━━━━━\u001b[0m\u001b[37m\u001b[0m \u001b[1m55s\u001b[0m 220ms/step - accuracy: 0.9651 - loss: 0.0930 - val_accuracy: 0.9711 - val_loss: 0.0698\n",
            "Epoch 10/30\n",
            "\u001b[1m251/251\u001b[0m \u001b[32m━━━━━━━━━━━━━━━━━━━━\u001b[0m\u001b[37m\u001b[0m \u001b[1m55s\u001b[0m 220ms/step - accuracy: 0.9698 - loss: 0.0770 - val_accuracy: 0.9721 - val_loss: 0.0705\n",
            "Epoch 11/30\n",
            "\u001b[1m251/251\u001b[0m \u001b[32m━━━━━━━━━━━━━━━━━━━━\u001b[0m\u001b[37m\u001b[0m \u001b[1m54s\u001b[0m 214ms/step - accuracy: 0.9650 - loss: 0.0818 - val_accuracy: 0.9721 - val_loss: 0.0644\n",
            "Epoch 12/30\n",
            "\u001b[1m251/251\u001b[0m \u001b[32m━━━━━━━━━━━━━━━━━━━━\u001b[0m\u001b[37m\u001b[0m \u001b[1m55s\u001b[0m 217ms/step - accuracy: 0.9716 - loss: 0.0762 - val_accuracy: 0.9731 - val_loss: 0.0593\n",
            "Epoch 13/30\n",
            "\u001b[1m251/251\u001b[0m \u001b[32m━━━━━━━━━━━━━━━━━━━━\u001b[0m\u001b[37m\u001b[0m \u001b[1m54s\u001b[0m 216ms/step - accuracy: 0.9670 - loss: 0.0870 - val_accuracy: 0.9750 - val_loss: 0.0579\n",
            "Epoch 14/30\n",
            "\u001b[1m251/251\u001b[0m \u001b[32m━━━━━━━━━━━━━━━━━━━━\u001b[0m\u001b[37m\u001b[0m \u001b[1m55s\u001b[0m 218ms/step - accuracy: 0.9720 - loss: 0.0682 - val_accuracy: 0.9750 - val_loss: 0.0579\n",
            "Epoch 15/30\n",
            "\u001b[1m251/251\u001b[0m \u001b[32m━━━━━━━━━━━━━━━━━━━━\u001b[0m\u001b[37m\u001b[0m \u001b[1m54s\u001b[0m 216ms/step - accuracy: 0.9782 - loss: 0.0587 - val_accuracy: 0.9721 - val_loss: 0.0615\n",
            "Epoch 16/30\n",
            "\u001b[1m251/251\u001b[0m \u001b[32m━━━━━━━━━━━━━━━━━━━━\u001b[0m\u001b[37m\u001b[0m \u001b[1m82s\u001b[0m 215ms/step - accuracy: 0.9717 - loss: 0.0734 - val_accuracy: 0.9770 - val_loss: 0.0546\n",
            "Epoch 17/30\n",
            "\u001b[1m251/251\u001b[0m \u001b[32m━━━━━━━━━━━━━━━━━━━━\u001b[0m\u001b[37m\u001b[0m \u001b[1m55s\u001b[0m 218ms/step - accuracy: 0.9766 - loss: 0.0596 - val_accuracy: 0.9731 - val_loss: 0.0565\n",
            "Epoch 18/30\n",
            "\u001b[1m251/251\u001b[0m \u001b[32m━━━━━━━━━━━━━━━━━━━━\u001b[0m\u001b[37m\u001b[0m \u001b[1m54s\u001b[0m 216ms/step - accuracy: 0.9794 - loss: 0.0497 - val_accuracy: 0.9770 - val_loss: 0.0553\n",
            "Epoch 19/30\n",
            "\u001b[1m251/251\u001b[0m \u001b[32m━━━━━━━━━━━━━━━━━━━━\u001b[0m\u001b[37m\u001b[0m \u001b[1m54s\u001b[0m 216ms/step - accuracy: 0.9791 - loss: 0.0519 - val_accuracy: 0.9760 - val_loss: 0.0581\n",
            "Epoch 20/30\n",
            "\u001b[1m251/251\u001b[0m \u001b[32m━━━━━━━━━━━━━━━━━━━━\u001b[0m\u001b[37m\u001b[0m \u001b[1m55s\u001b[0m 218ms/step - accuracy: 0.9769 - loss: 0.0574 - val_accuracy: 0.9780 - val_loss: 0.0531\n",
            "Epoch 21/30\n",
            "\u001b[1m251/251\u001b[0m \u001b[32m━━━━━━━━━━━━━━━━━━━━\u001b[0m\u001b[37m\u001b[0m \u001b[1m82s\u001b[0m 221ms/step - accuracy: 0.9805 - loss: 0.0493 - val_accuracy: 0.9741 - val_loss: 0.0568\n",
            "Epoch 22/30\n",
            "\u001b[1m251/251\u001b[0m \u001b[32m━━━━━━━━━━━━━━━━━━━━\u001b[0m\u001b[37m\u001b[0m \u001b[1m81s\u001b[0m 218ms/step - accuracy: 0.9804 - loss: 0.0574 - val_accuracy: 0.9750 - val_loss: 0.0588\n",
            "Epoch 23/30\n",
            "\u001b[1m251/251\u001b[0m \u001b[32m━━━━━━━━━━━━━━━━━━━━\u001b[0m\u001b[37m\u001b[0m \u001b[1m55s\u001b[0m 217ms/step - accuracy: 0.9808 - loss: 0.0538 - val_accuracy: 0.9750 - val_loss: 0.0582\n",
            "Epoch 24/30\n",
            "\u001b[1m251/251\u001b[0m \u001b[32m━━━━━━━━━━━━━━━━━━━━\u001b[0m\u001b[37m\u001b[0m \u001b[1m55s\u001b[0m 220ms/step - accuracy: 0.9829 - loss: 0.0475 - val_accuracy: 0.9770 - val_loss: 0.0544\n",
            "Epoch 25/30\n",
            "\u001b[1m251/251\u001b[0m \u001b[32m━━━━━━━━━━━━━━━━━━━━\u001b[0m\u001b[37m\u001b[0m \u001b[1m55s\u001b[0m 217ms/step - accuracy: 0.9818 - loss: 0.0500 - val_accuracy: 0.9721 - val_loss: 0.0574\n",
            "Epoch 26/30\n",
            "\u001b[1m251/251\u001b[0m \u001b[32m━━━━━━━━━━━━━━━━━━━━\u001b[0m\u001b[37m\u001b[0m \u001b[1m56s\u001b[0m 222ms/step - accuracy: 0.9819 - loss: 0.0568 - val_accuracy: 0.9741 - val_loss: 0.0556\n",
            "Epoch 27/30\n",
            "\u001b[1m251/251\u001b[0m \u001b[32m━━━━━━━━━━━━━━━━━━━━\u001b[0m\u001b[37m\u001b[0m \u001b[1m81s\u001b[0m 220ms/step - accuracy: 0.9863 - loss: 0.0361 - val_accuracy: 0.9741 - val_loss: 0.0615\n",
            "Epoch 28/30\n",
            "\u001b[1m251/251\u001b[0m \u001b[32m━━━━━━━━━━━━━━━━━━━━\u001b[0m\u001b[37m\u001b[0m \u001b[1m54s\u001b[0m 217ms/step - accuracy: 0.9847 - loss: 0.0382 - val_accuracy: 0.9770 - val_loss: 0.0552\n",
            "Epoch 29/30\n",
            "\u001b[1m251/251\u001b[0m \u001b[32m━━━━━━━━━━━━━━━━━━━━\u001b[0m\u001b[37m\u001b[0m \u001b[1m55s\u001b[0m 219ms/step - accuracy: 0.9857 - loss: 0.0428 - val_accuracy: 0.9770 - val_loss: 0.0518\n",
            "Epoch 30/30\n",
            "\u001b[1m251/251\u001b[0m \u001b[32m━━━━━━━━━━━━━━━━━━━━\u001b[0m\u001b[37m\u001b[0m \u001b[1m55s\u001b[0m 220ms/step - accuracy: 0.9850 - loss: 0.0364 - val_accuracy: 0.9800 - val_loss: 0.0462\n",
            "Модель тонкой настройки завершена.\n"
          ]
        }
      ],
      "source": [
        "from tensorflow.keras.layers import BatchNormalization\n",
        "unfreeze_layers = 150\n",
        "conv_base.trainable = True\n",
        "for layer in conv_base.layers[:-unfreeze_layers]:\n",
        "    layer.trainable = False\n",
        "model.compile(optimizer=Adam(learning_rate=1e-5),\n",
        "              loss='categorical_crossentropy',\n",
        "              metrics=['accuracy'])\n",
        "model.summary()\n",
        "fine_tune_epochs = 30\n",
        "history_fine_tune = model.fit(\n",
        "    train_generator,\n",
        "    steps_per_epoch=train_generator.samples // train_generator.batch_size + 1, # Добавляем 1 для учета возможного частичного последнего пакета\n",
        "    epochs=fine_tune_epochs,\n",
        "    validation_data=validation_generator,\n",
        "    validation_steps=validation_generator.samples // validation_generator.batch_size + 1 # Добавляем 1 для учета возможного частичного последнего пакета\n",
        ")\n",
        "\n",
        "print(\"Модель тонкой настройки завершена.\")"
      ]
    },
    {
      "cell_type": "markdown",
      "metadata": {
        "id": "n3t5k_BY4IPK"
      },
      "source": [
        "Модель содержит 3,49 млн параметров, из которых 3,47 млн обучаемые. В процессе тонкой настройки на 30 эпох точность на тренировочном наборе постепенно росла с 94,4% до 98,5%, а на валидационном наборе достигла 98,0%. Функция потерь уменьшалась с 0,14 до 0,046 на валидации, что указывает на успешное обучение и хорошую способность модели к обобщению. Модель тонкой настройки завершена."
      ]
    },
    {
      "cell_type": "markdown",
      "metadata": {
        "id": "516472c1"
      },
      "source": [
        "## Оценка модели на тестовом наборе"
      ]
    },
    {
      "cell_type": "code",
      "execution_count": 17,
      "metadata": {
        "colab": {
          "base_uri": "https://localhost:8080/"
        },
        "id": "6c5a7f94",
        "outputId": "65b00e17-c8b4-4e5e-b022-9a99544c589c"
      },
      "outputs": [
        {
          "name": "stdout",
          "output_type": "stream",
          "text": [
            "Оценка модели на тестовом наборе...\n",
            "\u001b[1m32/32\u001b[0m \u001b[32m━━━━━━━━━━━━━━━━━━━━\u001b[0m\u001b[37m\u001b[0m \u001b[1m10s\u001b[0m 306ms/step - accuracy: 0.9782 - loss: 0.0697\n",
            "Потери на тесте: 0.0565\n",
            "Точность на тесте: 0.9781\n"
          ]
        }
      ],
      "source": [
        "print(\"Оценка модели на тестовом наборе...\")\n",
        "loss, accuracy = model.evaluate(test_generator, steps=test_generator.samples // test_generator.batch_size + 1)\n",
        "\n",
        "print(f\"Потери на тесте: {loss:.4f}\")\n",
        "print(f\"Точность на тесте: {accuracy:.4f}\")"
      ]
    },
    {
      "cell_type": "markdown",
      "metadata": {
        "id": "dlV7cv_E4bxI"
      },
      "source": [
        "На тестовом наборе модель показала высокую точность — 97,8% при потере 0,0565, что подтверждает хорошее обобщение и способность корректно классифицировать изображения кошек и собак."
      ]
    },
    {
      "cell_type": "markdown",
      "metadata": {
        "id": "9b61a07c"
      },
      "source": [
        "## Визуализация результатов обучения\n",
        "\n",
        "Построим графики точности и потерь на обучающем и валидационном наборах для оценки производительности модели и выявления переобучения."
      ]
    },
    {
      "cell_type": "code",
      "execution_count": 19,
      "metadata": {
        "colab": {
          "base_uri": "https://localhost:8080/",
          "height": 887
        },
        "id": "5401483f",
        "outputId": "4bc82f5d-0809-4686-c1e4-4d81a8be2743"
      },
      "outputs": [
        {
          "data": {
            "image/png": "[encoded data removed]",
            "text/plain": [
              "<Figure size 640x480 with 1 Axes>"
            ]
          },
          "metadata": {},
          "output_type": "display_data"
        },
        {
          "data": {
            "image/png": "[encoded data removed]",
            "text/plain": [
              "<Figure size 640x480 with 1 Axes>"
            ]
          },
          "metadata": {},
          "output_type": "display_data"
        }
      ],
      "source": [
        "import matplotlib.pyplot as plt\n",
        "\n",
        "acc = history_fine_tune.history['accuracy']\n",
        "val_acc = history_fine_tune.history['val_accuracy']\n",
        "loss = history_fine_tune.history['loss']\n",
        "val_loss = history_fine_tune.history['val_loss']\n",
        "\n",
        "epochs = range(len(acc))\n",
        "\n",
        "plt.plot(epochs, acc, 'bo', label='Точность на обучении')\n",
        "plt.plot(epochs, val_acc, 'b', label='Точность на валидации')\n",
        "plt.title('Точность на обучении и валидации')\n",
        "plt.legend()\n",
        "\n",
        "plt.figure()\n",
        "\n",
        "plt.plot(epochs, loss, 'bo', label='Потери на обучении')\n",
        "plt.plot(epochs, val_loss, 'b', label='Потери на валидации')\n",
        "plt.title('Потери на обучении и валидации')\n",
        "plt.legend()\n",
        "\n",
        "plt.show()"
      ]
    },
    {
      "cell_type": "markdown",
      "metadata": {
        "id": "o97qfb_44_7k"
      },
      "source": [
        "#Вывод"
      ]
    },
    {
      "cell_type": "markdown",
      "metadata": {
        "id": "i3dpN1eN5B8-"
      },
      "source": [
        "**В ходе проекта мы подготовили и структурировали датасет, реализовали генераторы изображений с аугментацией, построили модель на основе MobileNet с добавлением полносвязных слоёв, провели тонкую настройку последних слоёв сети. Модель показала высокую точность на валидационном (98,0%) и тестовом (97,8%) наборах, что свидетельствует о её высокой эффективности и способности корректно классифицировать изображения кошек и собак. Проект демонстрирует успешное применение предобученных сетей и методов аугментации для решения задачи бинарной классификации изображений.**"
      ]
    }
  ],
  "metadata": {
    "accelerator": "GPU",
    "colab": {
      "gpuType": "T4",
      "provenance": []
    },
    "kernelspec": {
      "display_name": "Python 3",
      "name": "python3"
    },
    "language_info": {
      "name": "python"
    }
  },
  "nbformat": 4,
  "nbformat_minor": 0
}
